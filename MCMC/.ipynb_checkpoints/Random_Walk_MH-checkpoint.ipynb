{
 "cells": [
  {
   "cell_type": "code",
   "execution_count": 1,
   "metadata": {},
   "outputs": [],
   "source": [
    "import numpy as np\n",
    "from numpy.random import normal\n",
    "import matplotlib.pyplot as plt"
   ]
  },
  {
   "cell_type": "code",
   "execution_count": 20,
   "metadata": {},
   "outputs": [],
   "source": [
    "def pi(b,V):\n",
    "    ''' Density of the target distribution, up to a constant. '''\n",
    "    return np.exp(-b*V)\n",
    "\n",
    "def prop(x,h):\n",
    "    '''\n",
    "    Random proposition for the Metropolis-Hastings algorithm.\n",
    "    Uses the Random Walk Metropolis formula with unit variance.\n",
    "    \n",
    "    x -- np array of size k\n",
    "    '''\n",
    "    return x + h*normal(size=len(x))\n",
    "\n",
    "def q(x,y):\n",
    "    '''\n",
    "    Probability density of transition x to y, up to a constant.\n",
    "    Uses the Random Walk Metropolis formula with unit variance.\n",
    "    \n",
    "    x -- np array of size k\n",
    "    y -- np array of size k\n",
    "    '''\n",
    "    dist = x-y\n",
    "    return np.exp(-.5*np.dot(dist,dist))"
   ]
  },
  {
   "cell_type": "code",
   "execution_count": 68,
   "metadata": {},
   "outputs": [],
   "source": [
    "b, h = 1, 1\n",
    "x = np.arange(-3.0, 3.0, 0.01)\n",
    "\n",
    "def V(x):\n",
    "    return x**4"
   ]
  },
  {
   "cell_type": "code",
   "execution_count": 72,
   "metadata": {},
   "outputs": [],
   "source": [
    "def MH(N,pi,q,prop,x0=np.zeros(1)):\n",
    "    x = x0\n",
    "    trajectory = [x0]\n",
    "    for i in range(1,N):\n",
    "        y = prop(x,h)\n",
    "        ratio = pi(b,V(y))/pi(b,V(x))\n",
    "        a = np.min([1.,ratio])\n",
    "        r = np.random.rand()\n",
    "        if r < a:\n",
    "            x = y\n",
    "        trajectory += [x]\n",
    "    return np.array(trajectory)"
   ]
  },
  {
   "cell_type": "code",
   "execution_count": 73,
   "metadata": {},
   "outputs": [],
   "source": [
    "traj = MH(100000,pi,q,prop)"
   ]
  },
  {
   "cell_type": "code",
   "execution_count": 74,
   "metadata": {},
   "outputs": [
    {
     "data": {
      "text/plain": [
       "(array([1.54376011e-03, 1.01531915e-02, 5.90785118e-02, 1.39829041e-01,\n",
       "        2.90523777e-01, 4.05355779e-01, 4.71440587e-01, 5.53913002e-01,\n",
       "        5.58366156e-01, 5.58663033e-01, 5.52250491e-01, 5.35328505e-01,\n",
       "        5.23869055e-01, 4.78506258e-01, 3.86533781e-01, 2.45517232e-01,\n",
       "        1.18928904e-01, 3.96033843e-02, 7.65942515e-03, 4.75003110e-04]),\n",
       " array([-1.6660922 , -1.49767225, -1.3292523 , -1.16083235, -0.9924124 ,\n",
       "        -0.82399245, -0.6555725 , -0.48715255, -0.3187326 , -0.15031265,\n",
       "         0.0181073 ,  0.18652725,  0.3549472 ,  0.52336715,  0.6917871 ,\n",
       "         0.86020705,  1.028627  ,  1.19704695,  1.3654669 ,  1.53388685,\n",
       "         1.7023068 ]),\n",
       " <BarContainer object of 20 artists>)"
      ]
     },
     "execution_count": 74,
     "metadata": {},
     "output_type": "execute_result"
    },
    {
     "data": {
      "image/png": "[encoded data removed]",
      "text/plain": [
       "<Figure size 432x288 with 1 Axes>"
      ]
     },
     "metadata": {
      "needs_background": "light"
     },
     "output_type": "display_data"
    }
   ],
   "source": [
    "plt.hist(traj,density = True,bins=20)"
   ]
  }
 ],
 "metadata": {
  "kernelspec": {
   "display_name": "Python 3 (ipykernel)",
   "language": "python",
   "name": "python3"
  },
  "language_info": {
   "codemirror_mode": {
    "name": "ipython",
    "version": 3
   },
   "file_extension": ".py",
   "mimetype": "text/x-python",
   "name": "python",
   "nbconvert_exporter": "python",
   "pygments_lexer": "ipython3",
   "version": "3.11.4"
  }
 },
 "nbformat": 4,
 "nbformat_minor": 2
}
