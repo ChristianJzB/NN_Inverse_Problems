{
 "cells": [
  {
   "cell_type": "code",
   "execution_count": 1,
   "metadata": {},
   "outputs": [
    {
     "name": "stderr",
     "output_type": "stream",
     "text": [
      "/home/s2113174/anaconda3/envs/fenicsx-env/lib/python3.12/site-packages/tqdm/auto.py:21: TqdmWarning: IProgress not found. Please update jupyter and ipywidgets. See https://ipywidgets.readthedocs.io/en/stable/user_install.html\n",
      "  from .autonotebook import tqdm as notebook_tqdm\n"
     ]
    }
   ],
   "source": [
    "import sys\n",
    "import os\n",
    "import wandb\n",
    "import torch\n",
    "import numpy as np\n",
    "\n",
    "import pyro\n",
    "import pyro.distributions as dist\n",
    "import pyro.infer.mcmc as mcmc\n",
    "\n",
    "from ml_collections import ConfigDict\n",
    "\n",
    "# Add the parent directory to the sys.path\n",
    "parent_dir = os.path.abspath(os.path.join(os.getcwd(), '..'))\n",
    "sys.path.append(parent_dir)\n",
    "\n",
    "from files.training import train_dga\n",
    "from files.train_elliptic import train_elliptic,generate_data,samples_param\n",
    "\n",
    "\n",
    "device = torch.device(\"cuda:0\" if torch.cuda.is_available() else \"cpu\")"
   ]
  },
  {
   "cell_type": "markdown",
   "metadata": {},
   "source": [
    "# Burgers"
   ]
  },
  {
   "cell_type": "code",
   "execution_count": 2,
   "metadata": {},
   "outputs": [],
   "source": [
    "\n",
    "def get_burgers_config():\n",
    "    config = ConfigDict()\n",
    "\n",
    "    # Weights & Biases\n",
    "    config.wandb = wandb = ConfigDict()\n",
    "    wandb.project = \"PDEs-training\"\n",
    "    wandb.name = \"Burgers_MDNN\"\n",
    "    wandb.tag = None\n",
    "\n",
    "    # General settings\n",
    "    config.dga = \"burgers\"\n",
    "    config.nn_model = \"NN\"  # Options: \"NN\", \"WRF\", \"MDNN\"\n",
    "    config.lambdas = {\"burgers\":1,\"uic\":1, \"ubcl\":1, \"ubcr\":1}\n",
    "\n",
    "    # Model-specific settings\n",
    "    config.model = ConfigDict()\n",
    "    # config.model.input_dim = 3\n",
    "    # config.model.hidden_dim = 20\n",
    "    # config.model.num_layers = 2\n",
    "    # config.model.out_dim = 1\n",
    "    # config.model.activation = \"tanh\"\n",
    "    config.model.layers = [3] + 3*[20] + [1]\n",
    "\n",
    "    # Weight-Random-Factorization\n",
    "    #config.reparam = ConfigDict({\"type\":\"weight_fact\",\"mean\":1.0,\"stddev\":0.1})\n",
    "\n",
    "     # Periodic embeddings\n",
    "    #config.model.period_emb = ConfigDict({\"period\":(1.0, 1.0), \"axis\":(0, 1) })\n",
    "\n",
    "    # Fourier embeddings\n",
    "    #config.model.fourier_emb = ConfigDict({\"embed_scale\":1,\"embed_dim\":256,\"exclude_last_n\":100})\n",
    "\n",
    "    # Training settings\n",
    "    config.seed = 42\n",
    "    config.learning_rate = 0.001\n",
    "    config.decay_rate = 0.95\n",
    "    # config.alpha = 0.9  # For updating loss weights\n",
    "    config.epochs = 5000\n",
    "    config.start_scheduler = 0.75\n",
    "    # config.weights_update = 250\n",
    "    config.scheduler_step = 50\n",
    "\n",
    "    config.batch_size = 150\n",
    "    \n",
    "    return config"
   ]
  },
  {
   "cell_type": "code",
   "execution_count": 3,
   "metadata": {},
   "outputs": [
    {
     "name": "stderr",
     "output_type": "stream",
     "text": [
      "\u001b[34m\u001b[1mwandb\u001b[0m: Using wandb-core as the SDK backend.  Please refer to https://wandb.me/wandb-core for more information.\n"
     ]
    },
    {
     "name": "stdout",
     "output_type": "stream",
     "text": [
      "Running training with 100 samples...\n"
     ]
    },
    {
     "name": "stderr",
     "output_type": "stream",
     "text": [
      "\u001b[34m\u001b[1mwandb\u001b[0m: Currently logged in as: \u001b[33mchristian-jb07\u001b[0m (\u001b[33mchristian-jb07-univeristy-of-edinburgh\u001b[0m). Use \u001b[1m`wandb login --relogin`\u001b[0m to force relogin\n"
     ]
    },
    {
     "data": {
      "text/html": [
       "Tracking run with wandb version 0.18.7"
      ],
      "text/plain": [
       "<IPython.core.display.HTML object>"
      ]
     },
     "metadata": {},
     "output_type": "display_data"
    },
    {
     "data": {
      "text/html": [
       "Run data is saved locally in <code>/home/s2113174/Projects-1/Laplace_Exp/wandb/run-20250320_210949-ibkbszo1</code>"
      ],
      "text/plain": [
       "<IPython.core.display.HTML object>"
      ]
     },
     "metadata": {},
     "output_type": "display_data"
    },
    {
     "data": {
      "text/html": [
       "Syncing run <strong><a href='https://wandb.ai/christian-jb07-univeristy-of-edinburgh/PDEs-training/runs/ibkbszo1' target=\"_blank\">Burgers_MDNN_s100</a></strong> to <a href='https://wandb.ai/christian-jb07-univeristy-of-edinburgh/PDEs-training' target=\"_blank\">Weights & Biases</a> (<a href='https://wandb.me/developer-guide' target=\"_blank\">docs</a>)<br/>"
      ],
      "text/plain": [
       "<IPython.core.display.HTML object>"
      ]
     },
     "metadata": {},
     "output_type": "display_data"
    },
    {
     "data": {
      "text/html": [
       " View project at <a href='https://wandb.ai/christian-jb07-univeristy-of-edinburgh/PDEs-training' target=\"_blank\">https://wandb.ai/christian-jb07-univeristy-of-edinburgh/PDEs-training</a>"
      ],
      "text/plain": [
       "<IPython.core.display.HTML object>"
      ]
     },
     "metadata": {},
     "output_type": "display_data"
    },
    {
     "data": {
      "text/html": [
       " View run at <a href='https://wandb.ai/christian-jb07-univeristy-of-edinburgh/PDEs-training/runs/ibkbszo1' target=\"_blank\">https://wandb.ai/christian-jb07-univeristy-of-edinburgh/PDEs-training/runs/ibkbszo1</a>"
      ],
      "text/plain": [
       "<IPython.core.display.HTML object>"
      ]
     },
     "metadata": {},
     "output_type": "display_data"
    },
    {
     "data": {
      "text/html": [
       "\n",
       "    <style>\n",
       "        .wandb-row {\n",
       "            display: flex;\n",
       "            flex-direction: row;\n",
       "            flex-wrap: wrap;\n",
       "            justify-content: flex-start;\n",
       "            width: 100%;\n",
       "        }\n",
       "        .wandb-col {\n",
       "            display: flex;\n",
       "            flex-direction: column;\n",
       "            flex-basis: 100%;\n",
       "            flex: 1;\n",
       "            padding: 10px;\n",
       "        }\n",
       "    </style>\n",
       "<div class=\"wandb-row\"><div class=\"wandb-col\"><h3>Run history:</h3><br/><table class=\"wandb\"><tr><td>epoch</td><td>▁▁▁▁▁▂▂▂▃▃▃▃▃▃▃▃▄▄▄▄▄▅▅▅▅▅▅▅▅▆▆▆▆▇▇▇▇▇██</td></tr><tr><td>learning_rate</td><td>██████████████████████████████████▅▅▄▃▂▁</td></tr><tr><td>loss_burgers</td><td>██▇▇▅▄▅▄▂▅▄▃▅▃▃▂▃▂▄▃▂▂▂▂▂▂▁▂▁▂▁▁▂▂▁▃▁▁▂▁</td></tr><tr><td>loss_computation_time</td><td>▂▄▃▂▂▂▂▁▁▂█▁▁▃▂▁▂▅▅▁▅▅▂▄▆▄▃▃▃▂▃▂▆▃▂▄▂▃▂▂</td></tr><tr><td>loss_ubcl</td><td>█▃▃▃▃▃▄▃▃▃▃▂▂▂▂▁▁▃▂▁▁▁▂▁▁▁▁▁▁▁▁▁▁▁▁▁▁▁▁▁</td></tr><tr><td>loss_ubcr</td><td>█▅▃▃▃▄▂▂▁▁▁▁▁▁▁▁▁▁▁▁▁▁▁▁▁▁▁▁▁▁▁▁▁▁▁▁▁▁▁▁</td></tr><tr><td>loss_uic</td><td>█▂▂▂▁▁▁▁▁▁▁▁▁▁▁▁▁▁▁▁▁▁▁▁▁▁▁▁▁▁▁▁▁▁▁▁▁▁▁▁</td></tr><tr><td>train_loss</td><td>█▇██▇▄▃▃▂▂▂▂▃▃▂▂▂▂▃▁▂▂▂▂▁▂▂▂▂▁▂▂▁▁▁▁▁▁▁▁</td></tr></table><br/></div><div class=\"wandb-col\"><h3>Run summary:</h3><br/><table class=\"wandb\"><tr><td>epoch</td><td>4999</td></tr><tr><td>learning_rate</td><td>0.00028</td></tr><tr><td>loss_burgers</td><td>0.01148</td></tr><tr><td>loss_computation_time</td><td>0.00067</td></tr><tr><td>loss_ubcl</td><td>0.00014</td></tr><tr><td>loss_ubcr</td><td>0.00018</td></tr><tr><td>loss_uic</td><td>0.01197</td></tr><tr><td>train_loss</td><td>0.02377</td></tr></table><br/></div></div>"
      ],
      "text/plain": [
       "<IPython.core.display.HTML object>"
      ]
     },
     "metadata": {},
     "output_type": "display_data"
    },
    {
     "data": {
      "text/html": [
       " View run <strong style=\"color:#cdcd00\">Burgers_MDNN_s100</strong> at: <a href='https://wandb.ai/christian-jb07-univeristy-of-edinburgh/PDEs-training/runs/ibkbszo1' target=\"_blank\">https://wandb.ai/christian-jb07-univeristy-of-edinburgh/PDEs-training/runs/ibkbszo1</a><br/> View project at: <a href='https://wandb.ai/christian-jb07-univeristy-of-edinburgh/PDEs-training' target=\"_blank\">https://wandb.ai/christian-jb07-univeristy-of-edinburgh/PDEs-training</a><br/>Synced 5 W&B file(s), 0 media file(s), 0 artifact file(s) and 1 other file(s)"
      ],
      "text/plain": [
       "<IPython.core.display.HTML object>"
      ]
     },
     "metadata": {},
     "output_type": "display_data"
    },
    {
     "data": {
      "text/html": [
       "Find logs at: <code>./wandb/run-20250320_210949-ibkbszo1/logs</code>"
      ],
      "text/plain": [
       "<IPython.core.display.HTML object>"
      ]
     },
     "metadata": {},
     "output_type": "display_data"
    },
    {
     "name": "stdout",
     "output_type": "stream",
     "text": [
      "Completed training with 100 samples.\n",
      "Running training with 1500 samples...\n"
     ]
    },
    {
     "data": {
      "text/html": [
       "Tracking run with wandb version 0.18.7"
      ],
      "text/plain": [
       "<IPython.core.display.HTML object>"
      ]
     },
     "metadata": {},
     "output_type": "display_data"
    },
    {
     "data": {
      "text/html": [
       "Run data is saved locally in <code>/home/s2113174/Projects-1/Laplace_Exp/wandb/run-20250320_211007-rfdr7yi9</code>"
      ],
      "text/plain": [
       "<IPython.core.display.HTML object>"
      ]
     },
     "metadata": {},
     "output_type": "display_data"
    },
    {
     "data": {
      "text/html": [
       "Syncing run <strong><a href='https://wandb.ai/christian-jb07-univeristy-of-edinburgh/PDEs-training/runs/rfdr7yi9' target=\"_blank\">Burgers_MDNN_s1500</a></strong> to <a href='https://wandb.ai/christian-jb07-univeristy-of-edinburgh/PDEs-training' target=\"_blank\">Weights & Biases</a> (<a href='https://wandb.me/developer-guide' target=\"_blank\">docs</a>)<br/>"
      ],
      "text/plain": [
       "<IPython.core.display.HTML object>"
      ]
     },
     "metadata": {},
     "output_type": "display_data"
    },
    {
     "data": {
      "text/html": [
       " View project at <a href='https://wandb.ai/christian-jb07-univeristy-of-edinburgh/PDEs-training' target=\"_blank\">https://wandb.ai/christian-jb07-univeristy-of-edinburgh/PDEs-training</a>"
      ],
      "text/plain": [
       "<IPython.core.display.HTML object>"
      ]
     },
     "metadata": {},
     "output_type": "display_data"
    },
    {
     "data": {
      "text/html": [
       " View run at <a href='https://wandb.ai/christian-jb07-univeristy-of-edinburgh/PDEs-training/runs/rfdr7yi9' target=\"_blank\">https://wandb.ai/christian-jb07-univeristy-of-edinburgh/PDEs-training/runs/rfdr7yi9</a>"
      ],
      "text/plain": [
       "<IPython.core.display.HTML object>"
      ]
     },
     "metadata": {},
     "output_type": "display_data"
    },
    {
     "data": {
      "text/html": [
       "\n",
       "    <style>\n",
       "        .wandb-row {\n",
       "            display: flex;\n",
       "            flex-direction: row;\n",
       "            flex-wrap: wrap;\n",
       "            justify-content: flex-start;\n",
       "            width: 100%;\n",
       "        }\n",
       "        .wandb-col {\n",
       "            display: flex;\n",
       "            flex-direction: column;\n",
       "            flex-basis: 100%;\n",
       "            flex: 1;\n",
       "            padding: 10px;\n",
       "        }\n",
       "    </style>\n",
       "<div class=\"wandb-row\"><div class=\"wandb-col\"><h3>Run history:</h3><br/><table class=\"wandb\"><tr><td>epoch</td><td>▁▁▁▁▂▂▃▃▃▃▃▃▃▃▃▃▄▄▄▄▄▄▄▄▅▅▅▅▅▅▆▆▆▇▇▇▇███</td></tr><tr><td>learning_rate</td><td>███████████████████████████████▄▃▃▂▂▂▂▂▁</td></tr><tr><td>loss_burgers</td><td>█▇▇▇▆▄▄▄▄▃▄▃▂▃▃▂▂▂▃▂▂▂▂▂▁▁▁▂▂▁▁▁▁▁▁▁▁▁▁▁</td></tr><tr><td>loss_computation_time</td><td>▂▂▄▁▂▂▂▂▂▂▃▅█▆▅▂▅▄▃▄▄▂▅▂▄█▃▆▂▃▄▅▃▂▂▂▄▃▂▂</td></tr><tr><td>loss_ubcl</td><td>█▇▅▃▃▁▂▁▁▂▁▁▁▁▁▁▁▁▁▁▁▁▁▁▁▁▁▁▁▁▁▁▁▁▁▁▁▁▁▁</td></tr><tr><td>loss_ubcr</td><td>█▂▂▂▂▁▁▁▁▁▁▁▁▁▁▁▁▁▁▁▁▁▁▁▁▁▁▁▁▁▁▁▁▁▁▁▁▁▁▁</td></tr><tr><td>loss_uic</td><td>█▂▂▂▂▁▁▁▁▁▁▁▁▁▁▁▁▁▁▁▁▁▁▁▁▁▁▁▁▁▁▁▁▁▁▁▁▁▁▁</td></tr><tr><td>train_loss</td><td>█▇▃▃▃▂▂▂▂▁▁▁▁▁▁▁▁▁▁▁▁▁▁▁▁▁▁▁▁▁▁▁▁▁▁▁▁▁▁▁</td></tr></table><br/></div><div class=\"wandb-col\"><h3>Run summary:</h3><br/><table class=\"wandb\"><tr><td>epoch</td><td>4999</td></tr><tr><td>learning_rate</td><td>0.00028</td></tr><tr><td>loss_burgers</td><td>0.00927</td></tr><tr><td>loss_computation_time</td><td>0.00227</td></tr><tr><td>loss_ubcl</td><td>0.00034</td></tr><tr><td>loss_ubcr</td><td>0.00012</td></tr><tr><td>loss_uic</td><td>0.01027</td></tr><tr><td>train_loss</td><td>0.01999</td></tr></table><br/></div></div>"
      ],
      "text/plain": [
       "<IPython.core.display.HTML object>"
      ]
     },
     "metadata": {},
     "output_type": "display_data"
    },
    {
     "data": {
      "text/html": [
       " View run <strong style=\"color:#cdcd00\">Burgers_MDNN_s1500</strong> at: <a href='https://wandb.ai/christian-jb07-univeristy-of-edinburgh/PDEs-training/runs/rfdr7yi9' target=\"_blank\">https://wandb.ai/christian-jb07-univeristy-of-edinburgh/PDEs-training/runs/rfdr7yi9</a><br/> View project at: <a href='https://wandb.ai/christian-jb07-univeristy-of-edinburgh/PDEs-training' target=\"_blank\">https://wandb.ai/christian-jb07-univeristy-of-edinburgh/PDEs-training</a><br/>Synced 5 W&B file(s), 0 media file(s), 0 artifact file(s) and 1 other file(s)"
      ],
      "text/plain": [
       "<IPython.core.display.HTML object>"
      ]
     },
     "metadata": {},
     "output_type": "display_data"
    },
    {
     "data": {
      "text/html": [
       "Find logs at: <code>./wandb/run-20250320_211007-rfdr7yi9/logs</code>"
      ],
      "text/plain": [
       "<IPython.core.display.HTML object>"
      ]
     },
     "metadata": {},
     "output_type": "display_data"
    },
    {
     "name": "stdout",
     "output_type": "stream",
     "text": [
      "Completed training with 1500 samples.\n"
     ]
    }
   ],
   "source": [
    "N = [100,1500]\n",
    "\n",
    "#Loop through each sample size\n",
    "for batch_size in N:\n",
    "    print(f\"Running training with {batch_size} samples...\")\n",
    "    config = get_burgers_config()\n",
    "    config.wandb.name = f\"Burgers_MDNN_s{batch_size}\"\n",
    "    config.batch_size = batch_size  # Update the samples in the config\n",
    "    pinn_nvs = train_dga(config, device=device)\n",
    "    print(f\"Completed training with {batch_size} samples.\")"
   ]
  },
  {
   "cell_type": "markdown",
   "metadata": {},
   "source": [
    "# Heat Eq"
   ]
  },
  {
   "cell_type": "code",
   "execution_count": 4,
   "metadata": {},
   "outputs": [],
   "source": [
    "\n",
    "def get_heat_config():\n",
    "    config = ConfigDict()\n",
    "\n",
    "    # Weights & Biases\n",
    "    config.wandb = wandb = ConfigDict()\n",
    "    wandb.project = \"PDEs-training\"\n",
    "    wandb.name = \"Heat_MDNN\"\n",
    "    wandb.tag = None\n",
    "\n",
    "    # General settings\n",
    "    config.dga = \"heat\"\n",
    "    config.nn_model = \"NN\"  # Options: \"NN\", \"WRF\", \"MDNN\"\n",
    "    config.lambdas = {\"heat\":1,\"uic\":1, \"ubcl\":1, \"ubcr\":1}\n",
    "\n",
    "    # Model-specific settings\n",
    "    config.model = ConfigDict()\n",
    "    # config.model.input_dim = 3\n",
    "    # config.model.hidden_dim = 20\n",
    "    # config.model.num_layers = 2\n",
    "    # config.model.out_dim = 1\n",
    "    # config.model.activation = \"tanh\"\n",
    "    config.model.layers = [3] + 3*[20] + [1]\n",
    "\n",
    "    # Weight-Random-Factorization\n",
    "    #config.reparam = ConfigDict({\"type\":\"weight_fact\",\"mean\":1.0,\"stddev\":0.1})\n",
    "\n",
    "     # Periodic embeddings\n",
    "    #config.model.period_emb = ConfigDict({\"period\":(1.0, 1.0), \"axis\":(0, 1) })\n",
    "\n",
    "    # Fourier embeddings\n",
    "    # config.model.fourier_emb = ConfigDict({\"embed_scale\":1,\"embed_dim\":20,\"exclude_last_n\":1})\n",
    "\n",
    "    # Training settings\n",
    "    config.seed = 42\n",
    "    config.learning_rate = 0.001\n",
    "    config.decay_rate = 0.95\n",
    "    # config.alpha = 0.9  # For updating loss weights\n",
    "    config.epochs = 5000\n",
    "    config.start_scheduler = 0.5\n",
    "    # config.weights_update = 250\n",
    "    config.scheduler_step = 50\n",
    "\n",
    "    config.batch_size = 1000\n",
    "    \n",
    "    return config"
   ]
  },
  {
   "cell_type": "code",
   "execution_count": 5,
   "metadata": {},
   "outputs": [
    {
     "name": "stdout",
     "output_type": "stream",
     "text": [
      "Running training with 1000 samples...\n"
     ]
    },
    {
     "data": {
      "text/html": [
       "Tracking run with wandb version 0.18.7"
      ],
      "text/plain": [
       "<IPython.core.display.HTML object>"
      ]
     },
     "metadata": {},
     "output_type": "display_data"
    },
    {
     "data": {
      "text/html": [
       "Run data is saved locally in <code>/home/s2113174/Projects-1/Laplace_Exp/wandb/run-20250320_211057-2p8c8pry</code>"
      ],
      "text/plain": [
       "<IPython.core.display.HTML object>"
      ]
     },
     "metadata": {},
     "output_type": "display_data"
    },
    {
     "data": {
      "text/html": [
       "Syncing run <strong><a href='https://wandb.ai/christian-jb07-univeristy-of-edinburgh/PDEs-training/runs/2p8c8pry' target=\"_blank\">Heat_MDNN_s1000</a></strong> to <a href='https://wandb.ai/christian-jb07-univeristy-of-edinburgh/PDEs-training' target=\"_blank\">Weights & Biases</a> (<a href='https://wandb.me/developer-guide' target=\"_blank\">docs</a>)<br/>"
      ],
      "text/plain": [
       "<IPython.core.display.HTML object>"
      ]
     },
     "metadata": {},
     "output_type": "display_data"
    },
    {
     "data": {
      "text/html": [
       " View project at <a href='https://wandb.ai/christian-jb07-univeristy-of-edinburgh/PDEs-training' target=\"_blank\">https://wandb.ai/christian-jb07-univeristy-of-edinburgh/PDEs-training</a>"
      ],
      "text/plain": [
       "<IPython.core.display.HTML object>"
      ]
     },
     "metadata": {},
     "output_type": "display_data"
    },
    {
     "data": {
      "text/html": [
       " View run at <a href='https://wandb.ai/christian-jb07-univeristy-of-edinburgh/PDEs-training/runs/2p8c8pry' target=\"_blank\">https://wandb.ai/christian-jb07-univeristy-of-edinburgh/PDEs-training/runs/2p8c8pry</a>"
      ],
      "text/plain": [
       "<IPython.core.display.HTML object>"
      ]
     },
     "metadata": {},
     "output_type": "display_data"
    },
    {
     "data": {
      "text/html": [
       "\n",
       "    <style>\n",
       "        .wandb-row {\n",
       "            display: flex;\n",
       "            flex-direction: row;\n",
       "            flex-wrap: wrap;\n",
       "            justify-content: flex-start;\n",
       "            width: 100%;\n",
       "        }\n",
       "        .wandb-col {\n",
       "            display: flex;\n",
       "            flex-direction: column;\n",
       "            flex-basis: 100%;\n",
       "            flex: 1;\n",
       "            padding: 10px;\n",
       "        }\n",
       "    </style>\n",
       "<div class=\"wandb-row\"><div class=\"wandb-col\"><h3>Run history:</h3><br/><table class=\"wandb\"><tr><td>epoch</td><td>▁▁▁▁▂▂▂▂▂▂▃▃▃▃▃▄▄▄▄▅▅▅▆▆▆▆▆▆▆▆▇▇▇▇▇█████</td></tr><tr><td>learning_rate</td><td>████████████████████▄▄▄▄▄▄▄▄▃▃▃▂▂▂▂▂▁▁▁▁</td></tr><tr><td>loss_computation_time</td><td>▅▃▂▁▁▁▁▁▁▁▁▅▁▁▅▆▁▁▁▁▃▁▁▂█▅▇▁▄▆█▂▁▅▁▂▂▅▂▅</td></tr><tr><td>loss_heat</td><td>▁▁▁▁▂▃▆█▇█▇█▆██▆▆▄▄▆▅▆▆▅▅▄▄▅▄▅▆▄▅▄▄▅▆▅▅▄</td></tr><tr><td>loss_ubcl</td><td>▁▁▆█▃▃▄▄▃▅▅▃▄▆▅▅▆▅▅▇▄▆▆▆▆▆▅▆▇▇▆▆▆▆▆▆▆▇▆▆</td></tr><tr><td>loss_ubcr</td><td>▁▂▂▄▇▅▄▄▂▄▄▇▄▅▆▅█▆▇▇▆▇▆▇▆▇▆▇▇▆▇▇▆▆▇▇▇▇▇▇</td></tr><tr><td>loss_uic</td><td>███▅▃▃▃▃▃▃▃▃▂▂▂▂▂▂▂▂▁▁▁▁▁▁▁▁▁▁▁▁▁▁▁▁▁▁▁▁</td></tr><tr><td>train_loss</td><td>███▇▅▄▄▄▃▄▃▃▂▂▂▂▂▂▂▂▂▂▁▁▁▂▁▁▁▁▁▁▁▁▁▁▁▁▁▁</td></tr></table><br/></div><div class=\"wandb-col\"><h3>Run summary:</h3><br/><table class=\"wandb\"><tr><td>epoch</td><td>4999</td></tr><tr><td>learning_rate</td><td>8e-05</td></tr><tr><td>loss_computation_time</td><td>0.00177</td></tr><tr><td>loss_heat</td><td>1.95154</td></tr><tr><td>loss_ubcl</td><td>0.52194</td></tr><tr><td>loss_ubcr</td><td>0.50693</td></tr><tr><td>loss_uic</td><td>25.48537</td></tr><tr><td>train_loss</td><td>28.46579</td></tr></table><br/></div></div>"
      ],
      "text/plain": [
       "<IPython.core.display.HTML object>"
      ]
     },
     "metadata": {},
     "output_type": "display_data"
    },
    {
     "data": {
      "text/html": [
       " View run <strong style=\"color:#cdcd00\">Heat_MDNN_s1000</strong> at: <a href='https://wandb.ai/christian-jb07-univeristy-of-edinburgh/PDEs-training/runs/2p8c8pry' target=\"_blank\">https://wandb.ai/christian-jb07-univeristy-of-edinburgh/PDEs-training/runs/2p8c8pry</a><br/> View project at: <a href='https://wandb.ai/christian-jb07-univeristy-of-edinburgh/PDEs-training' target=\"_blank\">https://wandb.ai/christian-jb07-univeristy-of-edinburgh/PDEs-training</a><br/>Synced 5 W&B file(s), 0 media file(s), 0 artifact file(s) and 1 other file(s)"
      ],
      "text/plain": [
       "<IPython.core.display.HTML object>"
      ]
     },
     "metadata": {},
     "output_type": "display_data"
    },
    {
     "data": {
      "text/html": [
       "Find logs at: <code>./wandb/run-20250320_211057-2p8c8pry/logs</code>"
      ],
      "text/plain": [
       "<IPython.core.display.HTML object>"
      ]
     },
     "metadata": {},
     "output_type": "display_data"
    },
    {
     "name": "stdout",
     "output_type": "stream",
     "text": [
      "Completed training with 1000 samples.\n",
      "Running training with 3000 samples...\n"
     ]
    },
    {
     "data": {
      "text/html": [
       "Tracking run with wandb version 0.18.7"
      ],
      "text/plain": [
       "<IPython.core.display.HTML object>"
      ]
     },
     "metadata": {},
     "output_type": "display_data"
    },
    {
     "data": {
      "text/html": [
       "Run data is saved locally in <code>/home/s2113174/Projects-1/Laplace_Exp/wandb/run-20250320_211128-zhodgx85</code>"
      ],
      "text/plain": [
       "<IPython.core.display.HTML object>"
      ]
     },
     "metadata": {},
     "output_type": "display_data"
    },
    {
     "data": {
      "text/html": [
       "Syncing run <strong><a href='https://wandb.ai/christian-jb07-univeristy-of-edinburgh/PDEs-training/runs/zhodgx85' target=\"_blank\">Heat_MDNN_s3000</a></strong> to <a href='https://wandb.ai/christian-jb07-univeristy-of-edinburgh/PDEs-training' target=\"_blank\">Weights & Biases</a> (<a href='https://wandb.me/developer-guide' target=\"_blank\">docs</a>)<br/>"
      ],
      "text/plain": [
       "<IPython.core.display.HTML object>"
      ]
     },
     "metadata": {},
     "output_type": "display_data"
    },
    {
     "data": {
      "text/html": [
       " View project at <a href='https://wandb.ai/christian-jb07-univeristy-of-edinburgh/PDEs-training' target=\"_blank\">https://wandb.ai/christian-jb07-univeristy-of-edinburgh/PDEs-training</a>"
      ],
      "text/plain": [
       "<IPython.core.display.HTML object>"
      ]
     },
     "metadata": {},
     "output_type": "display_data"
    },
    {
     "data": {
      "text/html": [
       " View run at <a href='https://wandb.ai/christian-jb07-univeristy-of-edinburgh/PDEs-training/runs/zhodgx85' target=\"_blank\">https://wandb.ai/christian-jb07-univeristy-of-edinburgh/PDEs-training/runs/zhodgx85</a>"
      ],
      "text/plain": [
       "<IPython.core.display.HTML object>"
      ]
     },
     "metadata": {},
     "output_type": "display_data"
    },
    {
     "data": {
      "text/html": [
       "\n",
       "    <style>\n",
       "        .wandb-row {\n",
       "            display: flex;\n",
       "            flex-direction: row;\n",
       "            flex-wrap: wrap;\n",
       "            justify-content: flex-start;\n",
       "            width: 100%;\n",
       "        }\n",
       "        .wandb-col {\n",
       "            display: flex;\n",
       "            flex-direction: column;\n",
       "            flex-basis: 100%;\n",
       "            flex: 1;\n",
       "            padding: 10px;\n",
       "        }\n",
       "    </style>\n",
       "<div class=\"wandb-row\"><div class=\"wandb-col\"><h3>Run history:</h3><br/><table class=\"wandb\"><tr><td>epoch</td><td>▁▁▁▂▂▃▃▃▃▃▃▃▃▃▄▄▄▄▄▅▅▅▅▆▆▆▆▆▆▆▆▆▆▇▇▇████</td></tr><tr><td>learning_rate</td><td>████████████████████████▇▅▅▅▅▄▃▃▂▂▂▂▂▂▁▁</td></tr><tr><td>loss_computation_time</td><td>▁▃▂█▂▄▄█▄▃▄▄▄▅▃▆▄▆▃▄▃▃▄▄▃▃▃▂▃▄▃▅▆▆▆▃▂▃▄▅</td></tr><tr><td>loss_heat</td><td>▁▁▃█▇▆▆▆▅▅▅▅▄▄▆▅▅▄▄▅▄▄▅▅▄▅▄▄▅▄▄▄▄▄▅▅▅▄▅▄</td></tr><tr><td>loss_ubcl</td><td>▃▃▃██▅▆▅▅▅▆▅▅▃▃▃▂▃▃▂▁▁▂▁▁▂▂▁▁▁▁▂▁▁▁▂▂▁▂▁</td></tr><tr><td>loss_ubcr</td><td>▂▁▁▁▁▆█▅▄▃▄▃▄▄▃▄▄▃▄▄▄▃▃▃▃▃▃▃▃▃▃▃▃▃▃▃▃▃▃▃</td></tr><tr><td>loss_uic</td><td>██████▆▄▃▃▃▃▂▂▂▂▂▂▂▂▂▂▂▂▂▂▂▂▁▁▁▁▁▁▁▁▁▁▁▁</td></tr><tr><td>train_loss</td><td>█▆▆▅▅▅▄▄▄▃▃▃▃▂▂▂▂▂▂▂▂▂▂▂▂▂▂▁▁▁▁▁▁▁▁▁▁▁▁▁</td></tr></table><br/></div><div class=\"wandb-col\"><h3>Run summary:</h3><br/><table class=\"wandb\"><tr><td>epoch</td><td>4999</td></tr><tr><td>learning_rate</td><td>8e-05</td></tr><tr><td>loss_computation_time</td><td>0.00747</td></tr><tr><td>loss_heat</td><td>2.98246</td></tr><tr><td>loss_ubcl</td><td>0.17152</td></tr><tr><td>loss_ubcr</td><td>0.39275</td></tr><tr><td>loss_uic</td><td>18.12374</td></tr><tr><td>train_loss</td><td>21.67047</td></tr></table><br/></div></div>"
      ],
      "text/plain": [
       "<IPython.core.display.HTML object>"
      ]
     },
     "metadata": {},
     "output_type": "display_data"
    },
    {
     "data": {
      "text/html": [
       " View run <strong style=\"color:#cdcd00\">Heat_MDNN_s3000</strong> at: <a href='https://wandb.ai/christian-jb07-univeristy-of-edinburgh/PDEs-training/runs/zhodgx85' target=\"_blank\">https://wandb.ai/christian-jb07-univeristy-of-edinburgh/PDEs-training/runs/zhodgx85</a><br/> View project at: <a href='https://wandb.ai/christian-jb07-univeristy-of-edinburgh/PDEs-training' target=\"_blank\">https://wandb.ai/christian-jb07-univeristy-of-edinburgh/PDEs-training</a><br/>Synced 5 W&B file(s), 0 media file(s), 0 artifact file(s) and 1 other file(s)"
      ],
      "text/plain": [
       "<IPython.core.display.HTML object>"
      ]
     },
     "metadata": {},
     "output_type": "display_data"
    },
    {
     "data": {
      "text/html": [
       "Find logs at: <code>./wandb/run-20250320_211128-zhodgx85/logs</code>"
      ],
      "text/plain": [
       "<IPython.core.display.HTML object>"
      ]
     },
     "metadata": {},
     "output_type": "display_data"
    },
    {
     "name": "stdout",
     "output_type": "stream",
     "text": [
      "Completed training with 3000 samples.\n"
     ]
    }
   ],
   "source": [
    "N = [1000,3000]\n",
    "\n",
    "#Loop through each sample size\n",
    "for batch_size in N:\n",
    "    print(f\"Running training with {batch_size} samples...\")\n",
    "    config = get_heat_config()\n",
    "    config.wandb.name = f\"Heat_MDNN_s{batch_size}\"\n",
    "    config.batch_size = batch_size  # Update the samples in the config\n",
    "    pinn_nvs = train_dga(config, device=device)\n",
    "    print(f\"Completed training with {batch_size} samples.\")"
   ]
  },
  {
   "cell_type": "markdown",
   "metadata": {},
   "source": [
    "# Elliptic"
   ]
  },
  {
   "cell_type": "code",
   "execution_count": null,
   "metadata": {},
   "outputs": [],
   "source": [
    "\n",
    "def get_elliptic_config():\n",
    "    config = ConfigDict()\n",
    "\n",
    "    # Weights & Biases\n",
    "    config.wandb = wandb = ConfigDict()\n",
    "    wandb.project = \"Elliptic-training\"\n",
    "    wandb.name = \"MDNN\"\n",
    "    wandb.tag = None\n",
    "\n",
    "    # General settings\n",
    "    config.nn_model = \"MDNN\"  # Options: \"NN\", \"WRF\", \"MDNN\"\n",
    "    config.lambdas = {\"elliptic\":1, \"ubcl\":1, \"ubcr\":1}\n",
    "\n",
    "    # Model-specific settings\n",
    "    config.model = ConfigDict()\n",
    "    config.model.input_dim = 3\n",
    "    config.model.hidden_dim = 20\n",
    "    config.model.num_layers = 2\n",
    "    config.model.out_dim = 1\n",
    "    config.model.activation = \"tanh\"\n",
    "\n",
    "    # Weight-Random-Factorization\n",
    "    #config.reparam = ConfigDict({\"type\":\"weight_fact\",\"mean\":1.0,\"stddev\":0.1})\n",
    "\n",
    "     # Periodic embeddings\n",
    "    #config.model.period_emb = ConfigDict({\"period\":(1.0, 1.0), \"axis\":(0, 1) })\n",
    "\n",
    "    # Fourier embeddings\n",
    "    #config.model.fourier_emb = ConfigDict({\"embed_scale\":1,\"embed_dim\":256,\"exclude_last_n\":100})\n",
    "\n",
    "    # Config KL parameters\n",
    "    config.nparameters = 2\n",
    "\n",
    "    # Training settings\n",
    "    config.seed = 42\n",
    "    config.learning_rate = 0.001\n",
    "    config.decay_rate = 0.95\n",
    "    # config.alpha = 0.9  # For updating loss weights\n",
    "    config.epochs = 5000\n",
    "    config.start_scheduler = 0.5\n",
    "    # config.weights_update = 250\n",
    "    config.scheduler_step = 50\n",
    "\n",
    "    config.samples = 5000\n",
    "    config.batch_size = 150\n",
    "\n",
    "    \n",
    "    return config"
   ]
  },
  {
   "cell_type": "code",
   "execution_count": null,
   "metadata": {},
   "outputs": [
    {
     "name": "stderr",
     "output_type": "stream",
     "text": [
      "\u001b[34m\u001b[1mwandb\u001b[0m: Using wandb-core as the SDK backend.  Please refer to https://wandb.me/wandb-core for more information.\n"
     ]
    },
    {
     "name": "stdout",
     "output_type": "stream",
     "text": [
      "Running training with 150 samples...\n"
     ]
    },
    {
     "name": "stderr",
     "output_type": "stream",
     "text": [
      "\u001b[34m\u001b[1mwandb\u001b[0m: Currently logged in as: \u001b[33mchristian-jb07\u001b[0m (\u001b[33mchristian-jb07-univeristy-of-edinburgh\u001b[0m). Use \u001b[1m`wandb login --relogin`\u001b[0m to force relogin\n"
     ]
    },
    {
     "data": {
      "text/html": [
       "Tracking run with wandb version 0.18.7"
      ],
      "text/plain": [
       "<IPython.core.display.HTML object>"
      ]
     },
     "metadata": {},
     "output_type": "display_data"
    },
    {
     "data": {
      "text/html": [
       "Run data is saved locally in <code>/home/s2113174/Projects-1/Deep_Solvers/Inverse_Problems/Laplace_Exp/wandb/run-20250228_111811-js4ezox1</code>"
      ],
      "text/plain": [
       "<IPython.core.display.HTML object>"
      ]
     },
     "metadata": {},
     "output_type": "display_data"
    },
    {
     "data": {
      "text/html": [
       "Syncing run <strong><a href='https://wandb.ai/christian-jb07-univeristy-of-edinburgh/Elliptic-training/runs/js4ezox1' target=\"_blank\">MDNN_s150</a></strong> to <a href='https://wandb.ai/christian-jb07-univeristy-of-edinburgh/Elliptic-training' target=\"_blank\">Weights & Biases</a> (<a href='https://wandb.me/developer-guide' target=\"_blank\">docs</a>)<br/>"
      ],
      "text/plain": [
       "<IPython.core.display.HTML object>"
      ]
     },
     "metadata": {},
     "output_type": "display_data"
    },
    {
     "data": {
      "text/html": [
       " View project at <a href='https://wandb.ai/christian-jb07-univeristy-of-edinburgh/Elliptic-training' target=\"_blank\">https://wandb.ai/christian-jb07-univeristy-of-edinburgh/Elliptic-training</a>"
      ],
      "text/plain": [
       "<IPython.core.display.HTML object>"
      ]
     },
     "metadata": {},
     "output_type": "display_data"
    },
    {
     "data": {
      "text/html": [
       " View run at <a href='https://wandb.ai/christian-jb07-univeristy-of-edinburgh/Elliptic-training/runs/js4ezox1' target=\"_blank\">https://wandb.ai/christian-jb07-univeristy-of-edinburgh/Elliptic-training/runs/js4ezox1</a>"
      ],
      "text/plain": [
       "<IPython.core.display.HTML object>"
      ]
     },
     "metadata": {},
     "output_type": "display_data"
    },
    {
     "data": {
      "text/html": [
       "\n",
       "    <style>\n",
       "        .wandb-row {\n",
       "            display: flex;\n",
       "            flex-direction: row;\n",
       "            flex-wrap: wrap;\n",
       "            justify-content: flex-start;\n",
       "            width: 100%;\n",
       "        }\n",
       "        .wandb-col {\n",
       "            display: flex;\n",
       "            flex-direction: column;\n",
       "            flex-basis: 100%;\n",
       "            flex: 1;\n",
       "            padding: 10px;\n",
       "        }\n",
       "    </style>\n",
       "<div class=\"wandb-row\"><div class=\"wandb-col\"><h3>Run history:</h3><br/><table class=\"wandb\"><tr><td>epoch</td><td>▁▁▁▁▁▂▂▂▂▂▂▃▃▃▃▄▄▄▅▅▅▅▅▅▅▆▆▇▇▇▇▇▇▇▇█████</td></tr><tr><td>learning_rate</td><td>██████████████████▇▇▆▆▃▃▃▂▂▂▂▂▂▂▂▁▁▁▁▁▁▁</td></tr><tr><td>loss_computation_time</td><td>▄▂▆▇▁▄█▄▂▆▃▃▃▂▆▂▁▂▂▂▃▂▄▂▃▂▂▂▃▂▅▅▁▃▁▁▃▁▂▂</td></tr><tr><td>loss_elliptic</td><td>█▄▃▁▁▁▁▁▁▁▁▁▁▁▁▁▁▁▁▁▁▁▁▁▁▁▁▁▁▁▁▁▁▁▁▁▁▁▁▁</td></tr><tr><td>loss_ubcl</td><td>█▂▂▁▁▁▁▁▁▁▁▁▁▁▁▁▁▁▁▁▁▁▁▁▁▁▁▁▁▁▁▁▁▁▁▁▁▁▁▁</td></tr><tr><td>loss_ubcr</td><td>█▅▂▂▁▁▁▁▁▁▁▁▁▁▁▁▁▁▁▁▁▁▁▁▁▁▁▁▁▁▁▁▁▁▁▁▁▁▁▁</td></tr><tr><td>test_loss</td><td>█▃▂▂▂▂▁▁▁▁▁▁▁▁▁▁▁▁▁▁▁▁▁▁▁▁▁▁▁▁▁▁▁▁▁▁▁▁▁▁</td></tr><tr><td>train_loss</td><td>█▂▁▁▁▁▁▁▁▁▁▁▁▁▁▁▁▁▁▁▁▁▁▁▁▁▁▁▁▁▁▁▁▁▁▁▁▁▁▁</td></tr></table><br/></div><div class=\"wandb-col\"><h3>Run summary:</h3><br/><table class=\"wandb\"><tr><td>epoch</td><td>4999</td></tr><tr><td>learning_rate</td><td>8e-05</td></tr><tr><td>loss_computation_time</td><td>0.00295</td></tr><tr><td>loss_elliptic</td><td>0.00046</td></tr><tr><td>loss_ubcl</td><td>0.0001</td></tr><tr><td>loss_ubcr</td><td>0.0002</td></tr><tr><td>test_loss</td><td>0.0068</td></tr><tr><td>train_loss</td><td>0.00076</td></tr></table><br/></div></div>"
      ],
      "text/plain": [
       "<IPython.core.display.HTML object>"
      ]
     },
     "metadata": {},
     "output_type": "display_data"
    },
    {
     "data": {
      "text/html": [
       " View run <strong style=\"color:#cdcd00\">MDNN_s150</strong> at: <a href='https://wandb.ai/christian-jb07-univeristy-of-edinburgh/Elliptic-training/runs/js4ezox1' target=\"_blank\">https://wandb.ai/christian-jb07-univeristy-of-edinburgh/Elliptic-training/runs/js4ezox1</a><br/> View project at: <a href='https://wandb.ai/christian-jb07-univeristy-of-edinburgh/Elliptic-training' target=\"_blank\">https://wandb.ai/christian-jb07-univeristy-of-edinburgh/Elliptic-training</a><br/>Synced 4 W&B file(s), 0 media file(s), 3 artifact file(s) and 1 other file(s)"
      ],
      "text/plain": [
       "<IPython.core.display.HTML object>"
      ]
     },
     "metadata": {},
     "output_type": "display_data"
    },
    {
     "data": {
      "text/html": [
       "Find logs at: <code>./wandb/run-20250228_111811-js4ezox1/logs</code>"
      ],
      "text/plain": [
       "<IPython.core.display.HTML object>"
      ]
     },
     "metadata": {},
     "output_type": "display_data"
    },
    {
     "name": "stdout",
     "output_type": "stream",
     "text": [
      "Completed training with 150 samples.\n",
      "Running training with 2500 samples...\n"
     ]
    },
    {
     "data": {
      "text/html": [
       "Tracking run with wandb version 0.18.7"
      ],
      "text/plain": [
       "<IPython.core.display.HTML object>"
      ]
     },
     "metadata": {},
     "output_type": "display_data"
    },
    {
     "data": {
      "text/html": [
       "Run data is saved locally in <code>/home/s2113174/Projects-1/Deep_Solvers/Inverse_Problems/Laplace_Exp/wandb/run-20250228_112029-fk7l7z10</code>"
      ],
      "text/plain": [
       "<IPython.core.display.HTML object>"
      ]
     },
     "metadata": {},
     "output_type": "display_data"
    },
    {
     "data": {
      "text/html": [
       "Syncing run <strong><a href='https://wandb.ai/christian-jb07-univeristy-of-edinburgh/Elliptic-training/runs/fk7l7z10' target=\"_blank\">MDNN_s2500</a></strong> to <a href='https://wandb.ai/christian-jb07-univeristy-of-edinburgh/Elliptic-training' target=\"_blank\">Weights & Biases</a> (<a href='https://wandb.me/developer-guide' target=\"_blank\">docs</a>)<br/>"
      ],
      "text/plain": [
       "<IPython.core.display.HTML object>"
      ]
     },
     "metadata": {},
     "output_type": "display_data"
    },
    {
     "data": {
      "text/html": [
       " View project at <a href='https://wandb.ai/christian-jb07-univeristy-of-edinburgh/Elliptic-training' target=\"_blank\">https://wandb.ai/christian-jb07-univeristy-of-edinburgh/Elliptic-training</a>"
      ],
      "text/plain": [
       "<IPython.core.display.HTML object>"
      ]
     },
     "metadata": {},
     "output_type": "display_data"
    },
    {
     "data": {
      "text/html": [
       " View run at <a href='https://wandb.ai/christian-jb07-univeristy-of-edinburgh/Elliptic-training/runs/fk7l7z10' target=\"_blank\">https://wandb.ai/christian-jb07-univeristy-of-edinburgh/Elliptic-training/runs/fk7l7z10</a>"
      ],
      "text/plain": [
       "<IPython.core.display.HTML object>"
      ]
     },
     "metadata": {},
     "output_type": "display_data"
    },
    {
     "data": {
      "text/html": [
       "\n",
       "    <style>\n",
       "        .wandb-row {\n",
       "            display: flex;\n",
       "            flex-direction: row;\n",
       "            flex-wrap: wrap;\n",
       "            justify-content: flex-start;\n",
       "            width: 100%;\n",
       "        }\n",
       "        .wandb-col {\n",
       "            display: flex;\n",
       "            flex-direction: column;\n",
       "            flex-basis: 100%;\n",
       "            flex: 1;\n",
       "            padding: 10px;\n",
       "        }\n",
       "    </style>\n",
       "<div class=\"wandb-row\"><div class=\"wandb-col\"><h3>Run history:</h3><br/><table class=\"wandb\"><tr><td>epoch</td><td>▁▁▁▁▁▂▂▂▂▂▂▂▂▂▂▂▃▃▃▄▄▄▄▄▄▅▅▅▅▅▅▆▆▆▆▇▇▇▇█</td></tr><tr><td>learning_rate</td><td>███████████████████▇▅▅▄▄▃▃▃▃▂▂▂▂▂▂▂▂▁▁▁▁</td></tr><tr><td>loss_computation_time</td><td>█▂▂▁▂▂▁▃▁▂▂▁▁▃▁▄▁▄▂▂▃▃▄▃▄▁▃▃▃▂▁▂▂▄▄▆▁▂▄▃</td></tr><tr><td>loss_elliptic</td><td>█▇▃▂▂▂▁▁▁▁▁▁▁▂▁▁▁▁▁▁▁▁▁▁▁▁▁▁▁▁▁▁▁▁▁▁▁▁▁▁</td></tr><tr><td>loss_ubcl</td><td>█▇▃▁▁▁▁▁▁▁▁▁▁▁▁▁▁▁▁▁▁▁▁▁▁▁▁▁▁▁▁▁▁▁▁▁▁▁▁▁</td></tr><tr><td>loss_ubcr</td><td>█▇▇▅▁▁▁▁▁▁▁▁▁▁▁▁▁▁▁▁▁▁▁▁▁▁▁▁▁▁▁▁▁▁▁▁▁▁▁▁</td></tr><tr><td>test_loss</td><td>█▅▃▂▂▁▁▂▂▂▁▁▂▂▁▂▁▂▂▁▁▁▁▁▁▁▁▁▁▁▁▁▁▁▁▁▁▁▁▁</td></tr><tr><td>train_loss</td><td>█▅▃▁▁▁▁▁▁▁▁▁▁▁▁▁▁▁▁▁▁▁▁▁▁▁▁▁▁▁▁▁▁▁▁▁▁▁▁▁</td></tr></table><br/></div><div class=\"wandb-col\"><h3>Run summary:</h3><br/><table class=\"wandb\"><tr><td>epoch</td><td>4999</td></tr><tr><td>learning_rate</td><td>8e-05</td></tr><tr><td>loss_computation_time</td><td>0.00117</td></tr><tr><td>loss_elliptic</td><td>2e-05</td></tr><tr><td>loss_ubcl</td><td>0.0</td></tr><tr><td>loss_ubcr</td><td>0.0</td></tr><tr><td>test_loss</td><td>0.00062</td></tr><tr><td>train_loss</td><td>3e-05</td></tr></table><br/></div></div>"
      ],
      "text/plain": [
       "<IPython.core.display.HTML object>"
      ]
     },
     "metadata": {},
     "output_type": "display_data"
    },
    {
     "data": {
      "text/html": [
       " View run <strong style=\"color:#cdcd00\">MDNN_s2500</strong> at: <a href='https://wandb.ai/christian-jb07-univeristy-of-edinburgh/Elliptic-training/runs/fk7l7z10' target=\"_blank\">https://wandb.ai/christian-jb07-univeristy-of-edinburgh/Elliptic-training/runs/fk7l7z10</a><br/> View project at: <a href='https://wandb.ai/christian-jb07-univeristy-of-edinburgh/Elliptic-training' target=\"_blank\">https://wandb.ai/christian-jb07-univeristy-of-edinburgh/Elliptic-training</a><br/>Synced 5 W&B file(s), 0 media file(s), 0 artifact file(s) and 1 other file(s)"
      ],
      "text/plain": [
       "<IPython.core.display.HTML object>"
      ]
     },
     "metadata": {},
     "output_type": "display_data"
    },
    {
     "data": {
      "text/html": [
       "Find logs at: <code>./wandb/run-20250228_112029-fk7l7z10/logs</code>"
      ],
      "text/plain": [
       "<IPython.core.display.HTML object>"
      ]
     },
     "metadata": {},
     "output_type": "display_data"
    },
    {
     "name": "stdout",
     "output_type": "stream",
     "text": [
      "Completed training with 2500 samples.\n"
     ]
    }
   ],
   "source": [
    "N = [150,2500]\n",
    "\n",
    "#Loop through each sample size\n",
    "for samples in N:\n",
    "    print(f\"Running training with {samples} samples...\")\n",
    "    config = get_elliptic_config()\n",
    "    config.wandb.name = f\"MDNN_s{samples}\"\n",
    "    config.samples = samples  # Update the samples in the config\n",
    "    pinn_nvs = train_elliptic(config, device=device)\n",
    "    print(f\"Completed training with {samples} samples.\")"
   ]
  }
 ],
 "metadata": {
  "kernelspec": {
   "display_name": "fenicsx-env",
   "language": "python",
   "name": "python3"
  },
  "language_info": {
   "codemirror_mode": {
    "name": "ipython",
    "version": 3
   },
   "file_extension": ".py",
   "mimetype": "text/x-python",
   "name": "python",
   "nbconvert_exporter": "python",
   "pygments_lexer": "ipython3",
   "version": "3.12.5"
  }
 },
 "nbformat": 4,
 "nbformat_minor": 2
}
